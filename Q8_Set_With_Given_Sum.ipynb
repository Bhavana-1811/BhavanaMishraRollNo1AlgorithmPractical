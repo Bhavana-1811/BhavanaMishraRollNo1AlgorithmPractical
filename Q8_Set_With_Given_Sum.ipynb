{
 "cells": [
  {
   "cell_type": "code",
   "execution_count": 1,
   "id": "97a711b8",
   "metadata": {},
   "outputs": [
    {
     "name": "stdout",
     "output_type": "stream",
     "text": [
      "Found a subset with given sum\n"
     ]
    }
   ],
   "source": [
    "def isSubsetSum(set,n,sum):\n",
    "    if (sum ==0):\n",
    "        return True\n",
    "    if (n==0 and sum !=0):\n",
    "        return False\n",
    "    if (set[n-1]>sum):\n",
    "        return isSubsetSum(set,n-1,sum);\n",
    "    return isSubsetSum(set,n-1,sum)or isSubsetSum(set,n-1,sum-set[n-1])\n",
    "set=[3,34,4,12,5,2]\n",
    "sum =9\n",
    "n=len(set)\n",
    "if (isSubsetSum(set,n,sum)==True):\n",
    "    print(\"Found a subset with given sum\")\n",
    "else:\n",
    "    print(\"No subset with givensum\")"
   ]
  },
  {
   "cell_type": "code",
   "execution_count": null,
   "id": "f09dd02e",
   "metadata": {},
   "outputs": [],
   "source": []
  }
 ],
 "metadata": {
  "kernelspec": {
   "display_name": "Python 3",
   "language": "python",
   "name": "python3"
  },
  "language_info": {
   "codemirror_mode": {
    "name": "ipython",
    "version": 3
   },
   "file_extension": ".py",
   "mimetype": "text/x-python",
   "name": "python",
   "nbconvert_exporter": "python",
   "pygments_lexer": "ipython3",
   "version": "3.8.8"
  }
 },
 "nbformat": 4,
 "nbformat_minor": 5
}
