{
 "cells": [
  {
   "cell_type": "code",
   "execution_count": 1,
   "id": "fad9f662",
   "metadata": {},
   "outputs": [
    {
     "name": "stdout",
     "output_type": "stream",
     "text": [
      "2\n",
      "24\n",
      "45\n",
      "66\n",
      "75\n",
      "90\n",
      "170\n",
      "802\n"
     ]
    }
   ],
   "source": [
    "def countingSort(arr,exp1):\n",
    "  n=len(arr)\n",
    "  output=[0]*(n)\n",
    "  count=[0]*(10)\n",
    "  for i in range(0,n):\n",
    "    index=(arr[i]/exp1)\n",
    "    count[int(index)%10]+=1   \n",
    "  for i in range(1,10):\n",
    "    count[i]+=count[i-1]\n",
    "  i=n-1\n",
    "  while i>=0:\n",
    "    index=(arr[i]/exp1)\n",
    "    output[count[int(index)%10]-1]=arr[i]\n",
    "    count[int(index)%10]-=1\n",
    "    i-=1\n",
    "  i=0\n",
    "  for i in range(0,len(arr)):\n",
    "    arr[i]=output[i]\n",
    "def radixSort(arr):\n",
    "  max1=max(arr)\n",
    "  exp=1\n",
    "  while max1/exp>0:\n",
    "    countingSort(arr,exp)\n",
    "    exp*=10\n",
    "arr=[170,45,75,90,802,24,2,66]\n",
    "radixSort(arr)\n",
    "for i in range(len(arr)):\n",
    "  print(arr[i])"
   ]
  },
  {
   "cell_type": "code",
   "execution_count": null,
   "id": "c3789702",
   "metadata": {},
   "outputs": [],
   "source": []
  }
 ],
 "metadata": {
  "kernelspec": {
   "display_name": "Python 3",
   "language": "python",
   "name": "python3"
  },
  "language_info": {
   "codemirror_mode": {
    "name": "ipython",
    "version": 3
   },
   "file_extension": ".py",
   "mimetype": "text/x-python",
   "name": "python",
   "nbconvert_exporter": "python",
   "pygments_lexer": "ipython3",
   "version": "3.8.8"
  }
 },
 "nbformat": 4,
 "nbformat_minor": 5
}
