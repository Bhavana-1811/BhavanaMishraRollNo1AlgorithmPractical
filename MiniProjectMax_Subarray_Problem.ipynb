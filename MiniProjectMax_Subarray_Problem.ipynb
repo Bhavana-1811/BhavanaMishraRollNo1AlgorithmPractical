{
 "cells": [
  {
   "cell_type": "code",
   "execution_count": 1,
   "id": "b0a3f82b",
   "metadata": {},
   "outputs": [
    {
     "name": "stdout",
     "output_type": "stream",
     "text": [
      "Maximum contiguous sum is 3\n"
     ]
    }
   ],
   "source": [
    "def maxSubArraySum(a, size):\n",
    "    max_so_far = a[0]\n",
    "    curr_max = a[0]\n",
    "\n",
    "    for i in range(1, size):\n",
    "        curr_max = max(a[i], curr_max + a[i])\n",
    "        max_so_far = max(max_so_far, curr_max)\n",
    "\n",
    "    return max_so_far\n",
    "\n",
    "\n",
    "# Driver function to check the above function\n",
    "a = [1,2,-3,1,-2]\n",
    "print(\"Maximum contiguous sum is\", maxSubArraySum(a, len(a)))"
   ]
  },
  {
   "cell_type": "code",
   "execution_count": null,
   "id": "bdecd9ae",
   "metadata": {},
   "outputs": [],
   "source": []
  }
 ],
 "metadata": {
  "kernelspec": {
   "display_name": "Python 3 (ipykernel)",
   "language": "python",
   "name": "python3"
  },
  "language_info": {
   "codemirror_mode": {
    "name": "ipython",
    "version": 3
   },
   "file_extension": ".py",
   "mimetype": "text/x-python",
   "name": "python",
   "nbconvert_exporter": "python",
   "pygments_lexer": "ipython3",
   "version": "3.9.7"
  }
 },
 "nbformat": 4,
 "nbformat_minor": 5
}
